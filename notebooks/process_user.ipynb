{
 "cells": [
  {
   "cell_type": "code",
   "execution_count": null,
   "id": "a8327550",
   "metadata": {},
   "outputs": [],
   "source": [
    "import ast\n",
    "import re\n",
    "\n",
    "import numpy as np\n",
    "import pandas as pd\n",
    "import scipy\n",
    "import scipy.signal as signal\n",
    "import seaborn as sns\n",
    "import torch"
   ]
  },
  {
   "cell_type": "markdown",
   "id": "4d37cdd6",
   "metadata": {},
   "source": [
    "id --> used in vector db to identify anime\n",
    "title --> not used\n",
    "description --> N most recently watched anime descriptions are avg pooled to get a single anime embedding vector\n",
    "genres -->\n",
    "tags -->\n",
    "isadult --> maybe use number of adult anime as a feature\n",
    "format --> not used?\n",
    "meanScore --> could be avg pooled and added to anime vector as a feature\n",
    "popularity --> could be avg pooled and added to anime vector as a feature\n",
    "relations --> could be used to share embeddings between related anime\n",
    "startDate --> not used?\n",
    "endDate --> not used?\n",
    "season --> not used?\n",
    "updatedAt --> not used?\n",
    "stats --> could use softmax to create a feature vector of a cumulative score distribution of watched anime\n",
    "type --> only used to filter for anime"
   ]
  },
  {
   "cell_type": "code",
   "execution_count": null,
   "id": "1fe17125",
   "metadata": {},
   "outputs": [],
   "source": [
    "# this code needs to go where the anime embeddings are retrieved and combined for the candidate gen model\n",
    "init_scores = np.array(\n",
    "    list(x[\"amount\"] for x in media_df[\"stats\"].iloc[0]), dtype=np.float32\n",
    ")\n",
    "init_scores = init_scores / np.linalg.norm(init_scores)\n",
    "cumarr = torch.softmax(torch.tensor(init_scores, dtype=torch.float32), dim=0).numpy()\n",
    "\n",
    "for i in range(1, 5):\n",
    "    scores = np.array(\n",
    "        list(x[\"amount\"] for x in media_df[\"stats\"].iloc[i]), dtype=np.float32\n",
    "    )\n",
    "    scores = scores / np.linalg.norm(scores)\n",
    "    softmax = torch.softmax(torch.tensor(scores, dtype=torch.float32), dim=0).numpy()\n",
    "    sns.lineplot(x=list(range(1, 11)), y=softmax, label=f\"Anime {i + 1}\")\n",
    "    cumarr = signal.fftconvolve(cumarr, softmax, mode=\"same\")"
   ]
  },
  {
   "cell_type": "code",
   "execution_count": null,
   "id": "d2a88001",
   "metadata": {},
   "outputs": [],
   "source": [
    "sns.lineplot(x=list(range(1, 11)), y=cumarr)"
   ]
  }
 ],
 "metadata": {
  "language_info": {
   "name": "python"
  }
 },
 "nbformat": 4,
 "nbformat_minor": 5
}
