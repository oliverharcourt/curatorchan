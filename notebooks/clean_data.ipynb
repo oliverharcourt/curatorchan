{
 "cells": [
  {
   "cell_type": "code",
   "execution_count": null,
   "id": "724fcef7",
   "metadata": {},
   "outputs": [],
   "source": [
    "import ast\n",
    "import re\n",
    "\n",
    "import numpy as np\n",
    "import pandas as pd\n",
    "import scipy\n",
    "import scipy.signal as signal\n",
    "import seaborn as sns\n",
    "import torch\n",
    "from sklearn.preprocessing import scaler"
   ]
  },
  {
   "cell_type": "code",
   "execution_count": 2,
   "id": "363c8d85",
   "metadata": {},
   "outputs": [],
   "source": [
    "media_df = pd.read_csv(\"../data/media.csv\")\n",
    "users_df = pd.read_csv(\"../data/users.csv\")"
   ]
  },
  {
   "cell_type": "code",
   "execution_count": 3,
   "id": "bdb5d563",
   "metadata": {},
   "outputs": [],
   "source": [
    "media_df = media_df[media_df[\"type\"] == \"ANIME\"]\n",
    "media_df = media_df[media_df[\"description\"].notna()]\n",
    "media_df[\"description\"] = media_df[\"description\"].apply(\n",
    "    lambda x: x.replace(\"\\n\", \" \").strip() if isinstance(x, str) else x\n",
    ")\n",
    "media_df[\"description\"] = media_df[\"description\"].apply(\n",
    "    lambda x: re.sub(r\"<.*?>\", \"\", x).strip() if isinstance(x, str) else x\n",
    ")"
   ]
  },
  {
   "cell_type": "code",
   "execution_count": 4,
   "id": "d3b73a19",
   "metadata": {},
   "outputs": [
    {
     "data": {
      "text/plain": [
       "Index(['id', 'title', 'description', 'genres', 'tags', 'isAdult', 'format',\n",
       "       'meanScore', 'popularity', 'relations', 'startDate', 'endDate',\n",
       "       'season', 'updatedAt', 'stats', 'type'],\n",
       "      dtype='object')"
      ]
     },
     "execution_count": 4,
     "metadata": {},
     "output_type": "execute_result"
    }
   ],
   "source": [
    "media_df.columns"
   ]
  },
  {
   "cell_type": "code",
   "execution_count": 5,
   "id": "0bf8639f",
   "metadata": {},
   "outputs": [
    {
     "data": {
      "text/html": [
       "<div>\n",
       "<style scoped>\n",
       "    .dataframe tbody tr th:only-of-type {\n",
       "        vertical-align: middle;\n",
       "    }\n",
       "\n",
       "    .dataframe tbody tr th {\n",
       "        vertical-align: top;\n",
       "    }\n",
       "\n",
       "    .dataframe thead th {\n",
       "        text-align: right;\n",
       "    }\n",
       "</style>\n",
       "<table border=\"1\" class=\"dataframe\">\n",
       "  <thead>\n",
       "    <tr style=\"text-align: right;\">\n",
       "      <th></th>\n",
       "      <th>id</th>\n",
       "      <th>title</th>\n",
       "      <th>description</th>\n",
       "      <th>genres</th>\n",
       "      <th>tags</th>\n",
       "      <th>isAdult</th>\n",
       "      <th>format</th>\n",
       "      <th>meanScore</th>\n",
       "      <th>popularity</th>\n",
       "      <th>relations</th>\n",
       "      <th>startDate</th>\n",
       "      <th>endDate</th>\n",
       "      <th>season</th>\n",
       "      <th>updatedAt</th>\n",
       "      <th>stats</th>\n",
       "      <th>type</th>\n",
       "    </tr>\n",
       "  </thead>\n",
       "  <tbody>\n",
       "    <tr>\n",
       "      <th>0</th>\n",
       "      <td>1</td>\n",
       "      <td>{'native': 'カウボーイビバップ', 'romaji': 'Cowboy Bebo...</td>\n",
       "      <td>Enter a world in the distant future, where Bou...</td>\n",
       "      <td>['Action', 'Adventure', 'Drama', 'Sci-Fi']</td>\n",
       "      <td>[{'id': 63, 'name': 'Space', 'category': 'Sett...</td>\n",
       "      <td>False</td>\n",
       "      <td>TV</td>\n",
       "      <td>86.0</td>\n",
       "      <td>400454</td>\n",
       "      <td>{'nodes': [{'id': 5, 'title': {'english': \"Cow...</td>\n",
       "      <td>{'year': 1998}</td>\n",
       "      <td>{'year': 1999}</td>\n",
       "      <td>SPRING</td>\n",
       "      <td>1751556013</td>\n",
       "      <td>{'scoreDistribution': [{'amount': 549, 'score'...</td>\n",
       "      <td>ANIME</td>\n",
       "    </tr>\n",
       "  </tbody>\n",
       "</table>\n",
       "</div>"
      ],
      "text/plain": [
       "   id                                              title  \\\n",
       "0   1  {'native': 'カウボーイビバップ', 'romaji': 'Cowboy Bebo...   \n",
       "\n",
       "                                         description  \\\n",
       "0  Enter a world in the distant future, where Bou...   \n",
       "\n",
       "                                       genres  \\\n",
       "0  ['Action', 'Adventure', 'Drama', 'Sci-Fi']   \n",
       "\n",
       "                                                tags  isAdult format  \\\n",
       "0  [{'id': 63, 'name': 'Space', 'category': 'Sett...    False     TV   \n",
       "\n",
       "   meanScore  popularity                                          relations  \\\n",
       "0       86.0      400454  {'nodes': [{'id': 5, 'title': {'english': \"Cow...   \n",
       "\n",
       "        startDate         endDate  season   updatedAt  \\\n",
       "0  {'year': 1998}  {'year': 1999}  SPRING  1751556013   \n",
       "\n",
       "                                               stats   type  \n",
       "0  {'scoreDistribution': [{'amount': 549, 'score'...  ANIME  "
      ]
     },
     "execution_count": 5,
     "metadata": {},
     "output_type": "execute_result"
    }
   ],
   "source": [
    "media_df.head(1)"
   ]
  },
  {
   "cell_type": "code",
   "execution_count": null,
   "id": "6d13972c",
   "metadata": {},
   "outputs": [],
   "source": [
    "\"\"\"\n",
    "id --> used in vector db to identify anime\n",
    "title --> not used\n",
    "description --> N most recently watched anime descriptions are avg pooled to get a single anime embedding vector\n",
    "genres --> combine with tags\n",
    "tags --> combine with genres -> embedd each tag/genre and avg pool to get a single feature vector\n",
    "isadult --> maybe use number of adult anime as a feature\n",
    "format --> not used?\n",
    "meanScore --> scale to 0-1 and use as a feature\n",
    "popularity --> scale to 0-1 and use as a feature\n",
    "relations --> could be used to share embeddings between related anime\n",
    "startDate --> not used?\n",
    "endDate --> not used?\n",
    "season --> not used?\n",
    "updatedAt --> not used?\n",
    "stats --> could use softmax to create a feature vector of a cumulative score distribution of watched anime\n",
    "type --> only used to filter for anime\n",
    "\"\"\""
   ]
  },
  {
   "cell_type": "code",
   "execution_count": 6,
   "id": "f34f9702",
   "metadata": {},
   "outputs": [],
   "source": [
    "media_df[\"stats\"] = media_df[\"stats\"].apply(\n",
    "    lambda x: ast.literal_eval(x) if isinstance(x, str) else x\n",
    ")\n",
    "media_df[\"stats\"] = media_df[\"stats\"].apply(\n",
    "    lambda x: None if x[\"scoreDistribution\"] is None else x[\"scoreDistribution\"]\n",
    ")\n",
    "media_df = media_df[media_df[\"stats\"].notna()]"
   ]
  },
  {
   "cell_type": "code",
   "execution_count": null,
   "id": "c9592b42",
   "metadata": {},
   "outputs": [],
   "source": [
    "media_df[\"genres\"] = media_df[\"genres\"].apply(\n",
    "    lambda x: ast.literal_eval(x) if isinstance(x, str) else x\n",
    ")\n",
    "media_df[\"tags\"] = media_df[\"tags\"].apply(\n",
    "    lambda x: ast.literal_eval(x) if isinstance(x, str) else x\n",
    ")\n",
    "media_df[\"tags\"] = media_df[\"tags\"].apply(lambda x: None if len(x) == 0 else x)\n",
    "media_df[\"genres\"] = media_df[\"genres\"].apply(lambda x: None if len(x) == 0 else x)"
   ]
  },
  {
   "cell_type": "code",
   "execution_count": null,
   "id": "ab7c34dd",
   "metadata": {},
   "outputs": [],
   "source": [
    "def combine_genres_tags(row):\n",
    "    genres = set()\n",
    "    if row[\"genres\"] is not None:\n",
    "        genres = set(row[\"genres\"])\n",
    "    tags = set()\n",
    "    if row[\"tags\"] is not None:\n",
    "        tags = set(t[\"name\"] for t in row[\"tags\"])\n",
    "\n",
    "    unioned_tags = list(genres.union(tags))\n",
    "\n",
    "    return unioned_tags if unioned_tags else None\n",
    "\n",
    "\n",
    "media_df[\"genres_tags\"] = media_df.apply(combine_genres_tags, axis=1)\n",
    "\n",
    "media_df = media_df[media_df[\"genres_tags\"].notna()]"
   ]
  },
  {
   "cell_type": "code",
   "execution_count": null,
   "id": "04926cc2",
   "metadata": {},
   "outputs": [],
   "source": [
    "media_df = media_df[\n",
    "    media_df[\"format\"].isin([\"TV\", \"MOVIE\", \"OVA\", \"TV_SHORT\", \"SPECIAL\", \"ONA\"])\n",
    "]"
   ]
  },
  {
   "cell_type": "code",
   "execution_count": 55,
   "id": "944ae463",
   "metadata": {},
   "outputs": [
    {
     "data": {
      "text/plain": [
       "Index(['id', 'title', 'description', 'genres', 'tags', 'isAdult', 'format',\n",
       "       'meanScore', 'popularity', 'relations', 'startDate', 'endDate',\n",
       "       'season', 'updatedAt', 'stats', 'type', 'genres_tags'],\n",
       "      dtype='object')"
      ]
     },
     "execution_count": 55,
     "metadata": {},
     "output_type": "execute_result"
    }
   ],
   "source": [
    "media_df.columns"
   ]
  },
  {
   "cell_type": "code",
   "execution_count": 56,
   "id": "cca3eac5",
   "metadata": {},
   "outputs": [],
   "source": [
    "media_df = media_df[media_df[\"meanScore\"].notna()]\n",
    "media_df = media_df[media_df[\"popularity\"].notna()]"
   ]
  }
 ],
 "metadata": {
  "kernelspec": {
   "display_name": ".venv",
   "language": "python",
   "name": "python3"
  },
  "language_info": {
   "codemirror_mode": {
    "name": "ipython",
    "version": 3
   },
   "file_extension": ".py",
   "mimetype": "text/x-python",
   "name": "python",
   "nbconvert_exporter": "python",
   "pygments_lexer": "ipython3",
   "version": "3.12.8"
  }
 },
 "nbformat": 4,
 "nbformat_minor": 5
}
